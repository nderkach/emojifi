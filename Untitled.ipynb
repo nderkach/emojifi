{
 "cells": [
  {
   "cell_type": "code",
   "execution_count": 1,
   "metadata": {},
   "outputs": [
    {
     "name": "stderr",
     "output_type": "stream",
     "text": [
      "/usr/lib/python3/dist-packages/h5py/__init__.py:36: FutureWarning: Conversion of the second argument of issubdtype from `float` to `np.floating` is deprecated. In future, it will be treated as `np.float64 == np.dtype(float).type`.\n",
      "  from ._conv import register_converters as _register_converters\n",
      "Using TensorFlow backend.\n"
     ]
    }
   ],
   "source": [
    "import emojifi as emojifi\n",
    "import glove as glove"
   ]
  },
  {
   "cell_type": "code",
   "execution_count": 2,
   "metadata": {},
   "outputs": [],
   "source": [
    "word_to_index, index_to_word, word_to_vec_map = glove.read_glove_vecs()"
   ]
  },
  {
   "cell_type": "code",
   "execution_count": 3,
   "metadata": {},
   "outputs": [
    {
     "name": "stdout",
     "output_type": "stream",
     "text": [
      "[('<user>', 0), ('.', 1), (':', 2), ('rt', 3), (',', 4), ('<repeat>', 5), ('<hashtag>', 6), ('<number>', 7), ('<url>', 8), ('!', 9)]\n",
      "---\n",
      "[(0, '<user>'), (1, '.'), (2, ':'), (3, 'rt'), (4, ','), (5, '<repeat>'), (6, '<hashtag>'), (7, '<number>'), (8, '<url>'), (9, '!')]\n"
     ]
    }
   ],
   "source": [
    "print(list(word_to_index.items())[:10])\n",
    "print(\"---\")\n",
    "print(list(index_to_word.items())[:10])"
   ]
  },
  {
   "cell_type": "code",
   "execution_count": 4,
   "metadata": {},
   "outputs": [
    {
     "name": "stdout",
     "output_type": "stream",
     "text": [
      "[ 0.68661  -1.0772    0.011114 -0.24075  -0.3422    0.64456   0.54957\n",
      "  0.30411  -0.54682   1.4695    0.43648  -0.34223  -2.7189    0.46021\n",
      "  0.016881  0.13953   0.020913  0.050963 -0.48108  -1.0764   -0.16807\n",
      " -0.014315 -0.55055   0.67823   0.24359  -1.3179   -0.036348 -0.228\n",
      "  1.0337   -0.53221  -0.52934   0.35537  -0.44911   0.79506   0.56947\n",
      "  0.071642 -0.27455  -0.056911 -0.42961  -0.64412  -1.3495    0.23258\n",
      "  0.25383  -0.10226   0.65824   0.16015   0.20959  -0.067516 -0.51952\n",
      " -0.34922 ]\n"
     ]
    }
   ],
   "source": [
    "embedding_layer = emojifi.pretrained_embedding_layer(word_to_vec_map, word_to_index)\n",
    "print(embedding_layer.get_weights()[0][1])"
   ]
  },
  {
   "cell_type": "code",
   "execution_count": null,
   "metadata": {},
   "outputs": [],
   "source": []
  }
 ],
 "metadata": {
  "kernelspec": {
   "display_name": "Python 3",
   "language": "python",
   "name": "python3"
  },
  "language_info": {
   "codemirror_mode": {
    "name": "ipython",
    "version": 3
   },
   "file_extension": ".py",
   "mimetype": "text/x-python",
   "name": "python",
   "nbconvert_exporter": "python",
   "pygments_lexer": "ipython3",
   "version": "3.6.7"
  }
 },
 "nbformat": 4,
 "nbformat_minor": 2
}
